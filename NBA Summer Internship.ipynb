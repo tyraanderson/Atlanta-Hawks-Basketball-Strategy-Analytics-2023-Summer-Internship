{
 "cells": [
  {
   "cell_type": "code",
   "execution_count": 1,
   "id": "47de1613",
   "metadata": {},
   "outputs": [
    {
     "name": "stdout",
     "output_type": "stream",
     "text": [
      "The team(s) that drafted the most players from Duke before 2000:\n",
      "DAL\n",
      "MIN\n",
      "PHO\n"
     ]
    }
   ],
   "source": [
    "import pandas as pd #I used this website in order to upload the csv file provided https://plainenglish.io/blog/how-to-import-a-csv-into-a-jupyter-notebook-with-python-and-pandas\n",
    "\n",
    "# Load the NBA players dataset\n",
    "nba_players_df = pd.read_csv('/Users/tyraanderson/Desktop/nbaplayersdraft.csv')\n",
    "\n",
    "# Filter the players who went to Duke and were drafted in or before the 2000 draft\n",
    "duke_players_df = nba_players_df[\n",
    "    (nba_players_df['college'] == 'Duke') &\n",
    "    (nba_players_df['year'] <= 2000)\n",
    "]\n",
    "\n",
    "# Count the number of players drafted by each team\n",
    "team_counts = duke_players_df['team'].value_counts()\n",
    "\n",
    "# Find the team(s) with the maximum count of Duke players drafted before 2000\n",
    "max_count = team_counts.max()\n",
    "top_teams = team_counts[team_counts == max_count].index.tolist()\n",
    "\n",
    "# Print the result\n",
    "print(\"The team(s) that drafted the most players from Duke before 2000:\")\n",
    "for team in top_teams:\n",
    "    print(team)\n"
   ]
  },
  {
   "cell_type": "code",
   "execution_count": 15,
   "id": "8698d34c",
   "metadata": {},
   "outputs": [
    {
     "name": "stdout",
     "output_type": "stream",
     "text": [
      "NBA team(s) that drafted the most players with first names starting with 'D' in even years:\n",
      "BOS\n",
      "SEA\n",
      "MIL\n"
     ]
    }
   ],
   "source": [
    "# Dictionary to store the count of players drafted by each team\n",
    "team_counts = {}\n",
    "\n",
    "# Open the CSV file\n",
    "with open('/Users/tyraanderson/Desktop/nbaplayersdraft.csv') as file:\n",
    "    reader = csv.reader(file)\n",
    "    next(reader)  # Skip the header row\n",
    "\n",
    "    # Iterate over each row in the CSV file\n",
    "    for row in reader:\n",
    "        player_name = row[5]  # Index 5 corresponds to the 'player' column\n",
    "        draft_year = int(row[1])  # Index 1 corresponds to the 'year' column\n",
    "        team = row[4]  # Index 4 corresponds to the 'team' column\n",
    "\n",
    "        # Check if the player's first name starts with 'D' and was drafted in an even year\n",
    "        if player_name.startswith('D') and draft_year % 2 == 0:\n",
    "            # Update the count of players drafted by the team\n",
    "            team_counts[team] = team_counts.get(team, 0) + 1\n",
    "\n",
    "# Check if any players were drafted meeting the criteria\n",
    "if not team_counts:\n",
    "    print(\"No players found meeting the specified criteria.\")\n",
    "else:\n",
    "    # Find the maximum count of players drafted by a team\n",
    "    max_count = max(team_counts.values())\n",
    "\n",
    "    # Find the team(s) with the maximum count\n",
    "    teams_with_max_count = [team for team, count in team_counts.items() if count == max_count]\n",
    "\n",
    "    # Print the team(s) with the maximum count\n",
    "    print(\"NBA team(s) that drafted the most players with first names starting with 'D' in even years:\")\n",
    "    for team in teams_with_max_count:\n",
    "        print(team)\n"
   ]
  },
  {
   "cell_type": "code",
   "execution_count": null,
   "id": "930dc41e",
   "metadata": {},
   "outputs": [],
   "source": []
  }
 ],
 "metadata": {
  "kernelspec": {
   "display_name": "Python 3 (ipykernel)",
   "language": "python",
   "name": "python3"
  },
  "language_info": {
   "codemirror_mode": {
    "name": "ipython",
    "version": 3
   },
   "file_extension": ".py",
   "mimetype": "text/x-python",
   "name": "python",
   "nbconvert_exporter": "python",
   "pygments_lexer": "ipython3",
   "version": "3.9.13"
  }
 },
 "nbformat": 4,
 "nbformat_minor": 5
}
